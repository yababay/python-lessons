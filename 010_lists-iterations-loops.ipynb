{
 "cells": [
  {
   "cell_type": "markdown",
   "metadata": {},
   "source": [
    "# Циклы, списки и итерации в Python\n",
    "\n",
    "Одним из самых распространенных типов данных в Python являются списки. Их можно создавать с помощью перечисленных через запятую значений, заключенных в квадратные скобки."
   ]
  },
  {
   "cell_type": "code",
   "execution_count": 1,
   "metadata": {},
   "outputs": [
    {
     "name": "stdout",
     "output_type": "stream",
     "text": [
      "[1, 2, 3, 4, 5]\n"
     ]
    }
   ],
   "source": [
    "numbers = [1, 2, 3, 4, 5]\n",
    "print(numbers)"
   ]
  },
  {
   "cell_type": "markdown",
   "metadata": {},
   "source": [
    "Перебор значений списка и выполнение над каждым его элементом какого-то действия называется итерацией или циклом. Для этого используется ключевое слово `for`. После него указывается имя переменной, в которой будет находиться текущий элемент списка, ключевое слово `in` и указатель на список. Завершается описание оператора `for` двоеточием:"
   ]
  },
  {
   "cell_type": "code",
   "execution_count": 2,
   "metadata": {},
   "outputs": [
    {
     "name": "stdout",
     "output_type": "stream",
     "text": [
      "Миссисипи 1\n",
      "Миссисипи 2\n",
      "Миссисипи 3\n",
      "Миссисипи 4\n",
      "Миссисипи 5\n"
     ]
    }
   ],
   "source": [
    "for item in numbers:\n",
    "    print(\"Миссисипи {}\".format(item))"
   ]
  },
  {
   "cell_type": "markdown",
   "metadata": {},
   "source": [
    "Чтобы создать список-последовательность из чисел не обязательно перечислять их вручную. Лучше задействовать функцию `range()`. При этом нужно иметь в виду, что по умолчанию отсчет значений ведется от `0`, а не от `1`, и конечное значение в сам диапазон не включается. \n"
   ]
  },
  {
   "cell_type": "code",
   "execution_count": 3,
   "metadata": {},
   "outputs": [
    {
     "name": "stdout",
     "output_type": "stream",
     "text": [
      "Миссисипи 0\n",
      "Миссисипи 1\n",
      "Миссисипи 2\n",
      "Миссисипи 3\n",
      "Миссисипи 4\n",
      "Миссисипи 5\n"
     ]
    }
   ],
   "source": [
    "for item in range(6): # По умолчанию отсчет от нуля. Считать до 6, но не включая 6.\n",
    "    print(\"Миссисипи {}\".format(item))\n"
   ]
  },
  {
   "cell_type": "markdown",
   "metadata": {},
   "source": [
    "Чтобы `range` вел отсчет не от нуля, можно указать два параметра: от какого числа вести отсчет, и каким заканчивать."
   ]
  },
  {
   "cell_type": "code",
   "execution_count": 4,
   "metadata": {},
   "outputs": [
    {
     "name": "stdout",
     "output_type": "stream",
     "text": [
      "Миссисипи 2\n",
      "Миссисипи 3\n",
      "Миссисипи 4\n",
      "Миссисипи 5\n"
     ]
    }
   ],
   "source": [
    "for item in range(2, 6): # По умолчанию отсчет от нуля. Считать до 6, но не включая 6.\n",
    "    print(\"Миссисипи {}\".format(item))"
   ]
  },
  {
   "cell_type": "markdown",
   "metadata": {},
   "source": [
    " Вызов `range` с тремя параметрами добавляет шаг, т.е. возможность обрабатывать только каждый n-ый элемент списка."
   ]
  },
  {
   "cell_type": "code",
   "execution_count": 5,
   "metadata": {},
   "outputs": [
    {
     "name": "stdout",
     "output_type": "stream",
     "text": [
      "Миссисипи 0\n",
      "Миссисипи 3\n",
      "Миссисипи 6\n",
      "Миссисипи 9\n"
     ]
    }
   ],
   "source": [
    "for item in range(0, 10, 3): # Выводится каждый 3-й элемент.\n",
    "    print(\"Миссисипи {}\".format(item))"
   ]
  },
  {
   "cell_type": "markdown",
   "metadata": {},
   "source": [
    "Элементами списков часто бывают не числа, а строки или более сложные объекты. Они обрабатываются циклов `for` точно так же."
   ]
  },
  {
   "cell_type": "code",
   "execution_count": 6,
   "metadata": {},
   "outputs": [
    {
     "name": "stdout",
     "output_type": "stream",
     "text": [
      "Раз\n",
      "два\n",
      "три\n",
      "четыре\n",
      "пять\n",
      "вышел\n",
      "зайчик\n",
      "погулять\n"
     ]
    }
   ],
   "source": [
    "verse = [\"Раз\", \"два\", \"три\", \"четыре\", \"пять\", \"вышел\", \"зайчик\", \"погулять\"]\n",
    "for item in verse:\n",
    "    print(item)"
   ]
  },
  {
   "cell_type": "markdown",
   "metadata": {},
   "source": [
    "С помощью инструкций в квадратных скобках можно регулировать диапазон выводимых значений. Минимальный и максимальный номера заключаются в квадратные скобки и разделяются двоеточием:"
   ]
  },
  {
   "cell_type": "code",
   "execution_count": 7,
   "metadata": {},
   "outputs": [
    {
     "name": "stdout",
     "output_type": "stream",
     "text": [
      "Раз\n",
      "два\n",
      "три\n",
      "четыре\n",
      "пять\n"
     ]
    }
   ],
   "source": [
    "for item in verse[0:5]: # Показать элементы от 0-го до 5-го (исключая сам 5-й).\n",
    "    print(item)"
   ]
  },
  {
   "cell_type": "code",
   "execution_count": 8,
   "metadata": {},
   "outputs": [
    {
     "name": "stdout",
     "output_type": "stream",
     "text": [
      "вышел\n",
      "зайчик\n",
      "погулять\n"
     ]
    }
   ],
   "source": [
    "for item in verse[5:]: # Показать элементы от 5-го до конца списка.\n",
    "    print(item)"
   ]
  },
  {
   "cell_type": "code",
   "execution_count": 9,
   "metadata": {},
   "outputs": [
    {
     "name": "stdout",
     "output_type": "stream",
     "text": [
      "вышел\n",
      "зайчик\n"
     ]
    }
   ],
   "source": [
    "for item in verse[5:7]: # Показать элементы от 5-го до 7-го (без 7-го), т.е. 5-й и 6-й.\n",
    "    print(item)"
   ]
  },
  {
   "cell_type": "markdown",
   "metadata": {},
   "source": [
    "Циклы `while` применяются чаще не для обработки списков, а для отслеживания каких-то повторяющихся действий. Например,  в следующем примере программа работает пока не превышено какое-то пороговое значение:"
   ]
  },
  {
   "cell_type": "code",
   "execution_count": 10,
   "metadata": {},
   "outputs": [
    {
     "name": "stdout",
     "output_type": "stream",
     "text": [
      "1\n",
      "2\n",
      "3\n",
      "4\n",
      "5\n",
      "6\n"
     ]
    }
   ],
   "source": [
    "count = 0\n",
    "lim = 6\n",
    "while count < lim:\n",
    "    count += 1\n",
    "    print(count)"
   ]
  },
  {
   "cell_type": "markdown",
   "metadata": {},
   "source": [
    "В циклах часто применяются ключевые слова `continue` и `break`. `continue` применяется там, где элементы не соответствуют какому-то условию, т.е. \"не интересуют\" программу:"
   ]
  },
  {
   "cell_type": "code",
   "execution_count": 11,
   "metadata": {},
   "outputs": [
    {
     "name": "stdout",
     "output_type": "stream",
     "text": [
      "Раз\n",
      "два\n",
      "вышел\n",
      "зайчик\n"
     ]
    }
   ],
   "source": [
    "for item in verse:\n",
    "    if item in [\"три\", \"четыре\", \"пять\", \"погулять\"]:\n",
    "        continue\n",
    "    print(item)"
   ]
  },
  {
   "cell_type": "markdown",
   "metadata": {},
   "source": [
    "`break` прерывает цикл при наступлении какого-либо условия:"
   ]
  },
  {
   "cell_type": "code",
   "execution_count": 12,
   "metadata": {},
   "outputs": [
    {
     "name": "stdout",
     "output_type": "stream",
     "text": [
      "Раз\n",
      "два\n",
      "три\n",
      "четыре\n",
      "пять\n",
      "вышел\n"
     ]
    }
   ],
   "source": [
    "for item in verse:\n",
    "    if item == \"зайчик\":\n",
    "        break\n",
    "    print(item)"
   ]
  },
  {
   "cell_type": "code",
   "execution_count": null,
   "metadata": {},
   "outputs": [],
   "source": []
  }
 ],
 "metadata": {
  "kernelspec": {
   "display_name": "Python 3",
   "language": "python",
   "name": "python3"
  },
  "language_info": {
   "codemirror_mode": {
    "name": "ipython",
    "version": 3
   },
   "file_extension": ".py",
   "mimetype": "text/x-python",
   "name": "python",
   "nbconvert_exporter": "python",
   "pygments_lexer": "ipython3",
   "version": "3.5.3"
  }
 },
 "nbformat": 4,
 "nbformat_minor": 4
}
